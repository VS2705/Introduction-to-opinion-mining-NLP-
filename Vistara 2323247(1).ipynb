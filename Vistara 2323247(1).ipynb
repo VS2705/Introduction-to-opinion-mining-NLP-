{
 "cells": [
  {
   "cell_type": "code",
   "execution_count": 1,
   "id": "fc04cbc9",
   "metadata": {},
   "outputs": [],
   "source": [
    "import pandas as pd \n",
    "import pandas as pd\n",
    "import matplotlib.pyplot as plt\n",
    "from wordcloud import WordCloud\n",
    "from nltk.corpus import stopwords\n",
    "import string\n",
    "import nltk\n",
    "from nltk.tokenize import word_tokenize\n",
    "from nltk.stem import PorterStemmer"
   ]
  },
  {
   "cell_type": "code",
   "execution_count": 2,
   "id": "b66f73ef",
   "metadata": {},
   "outputs": [
    {
     "name": "stdout",
     "output_type": "stream",
     "text": [
      "['\"In-flight meal was better than expected.', 'Good job, Vistara!', 'Not a pleasant experience.', 'Food was cold and tasteless.', 'Excellent check-in process.', 'Will definitely fly again.', 'Flight got delayed by 45 minutes, but staff handled the situation professionally.', 'The flight was smooth and landed before time.', 'Crew was polite.', 'Clean aircraft and timely service.', 'A good experience.', 'Excellent check-in process.', 'Will definitely fly again.', 'Seats were cramped and entertainment options were limited.', 'Quick boarding, clean seats and smooth takeoff.', 'Five stars!', 'Very poor customer service at the boarding gate.', 'Vistara stands out as a premium full-service carrier, offering a superior travel experience that consistently impresses.', 'From check-in to landing, the attention to detail and customer focus is evident, making it one of the best choices for both domestic and international travel in India.', 'The cabin crew is exceptionally professional, courteous, and attentive, ensuring passengers feel comfortable throughout the journey.', 'The seating arrangement, especially in Premium Economy and Business Class, provides ample legroom and ergonomic comfort, ideal for long flights.', 'The inflight entertainment options are diverse, catering to various preferences, and the complimentary meals are thoughtfully curated, offering both quality and variety.', 'Punctuality is another area where Vistara excels, with flights often departing and arriving on time.', 'Additionally, the check-in process is seamless, and the airline staff are well-trained to handle queries efficiently.', 'The partnership with Singapore Airlines also adds a layer of credibility and enhances the overall experience.', 'That said, Vistaras ticket prices can be slightly higher than budget carriers, but the services provided justify the cost.', 'For those who value comfort, reliability, and excellent service, Vistara is worth every penny.', 'Its an airline that truly redefines air travel in India with its commitment to quality and customer satisfaction.', 'I had a wonderful experience flying with Vistara Airlines recently, and I cant praise their staff enough, especially Ankush and Manisha.', 'From the moment I arrived at the airport, they made the entire check-in process incredibly smooth and stress-free.', 'Ankush was welcoming and guided me through each step with such professionalism, making sure I had all the information I needed.', 'His calm and friendly demeanor made a normally hectic process feel easy and seamless.', 'Manisha was equally attentive, helping me with my questions and ensuring I felt comfortable with every detail of my journey.', 'Their teamwork and dedication truly reflect Vistaras commitment to exceptional service.', 'Not only did they make the check-in experience smooth, but they also set a positive tone for the rest of my trip.', 'The flight was equally enjoyable, with clean cabins, comfortable seating, and excellent in-flight service.', 'Thank you, Vistara, and a special shoutout to Ankush and Manisha for going above and beyond to make my journey a pleasant one.', 'I highly recommend Vistara Airlines for their superb staff and top-notch service\\xa0It was very great flying in Vistara today, then any other Company I liked this because of several reasons like hospitality, Seat comfort, cabin staff service, food Etc.', 'Keep it up.', 'Im deeply disappointed with my recent experience with Vistara Airlines.', 'My booking was unexpectedly canceled without my consent or any prior communication, allegedly due to a fraud alert from my bank.', 'Despite my repeated requests for clarification and proof, Vistara has failed to provide a satisfactory explanation or address my concerns professionally.', 'This lack of transparency and communication has caused significant inconvenience, both financially and in terms of time.', 'A mere refund is not enough to compensate for the stress and trouble caused by this mishandling.', 'I expect better from a reputed airline like Vistara, and I urge them to address such issues more responsibly in the future.', 'Vistara is overall good .The seats were comfortable the food was kind of okayish, staff service on point, inflight entertainment was okay.', 'This my first time flying with Vistara and i am sure that i will be flying again with this airline.', 'The ground service could have been more better than this, the bus took a little bit of time.', 'Extremely impolite and ill mannered cabin crew.', 'Instead of giving a reply to a simple question, an arrogant crew member got into an argument in the most insulting tone.', 'Even his colleagues were visibly disturbed by his behaviour.', 'Some people lack basic etiquettes and cannot be trusted with hospitality spaces.', 'But does the airline care Of course not.', 'It was really nice experience, this was my first journey with Vistara.', 'I am 6.2 feet height and still I was able to sit comfortably.', 'They provided food also, after long time get food in Indian domestic flight was a good feel.', 'Every days we used to get in jet and kingfisher airlines.', 'It was a nice experience, now waiting for my connecting flight to Dubai.', 'The on-ground experience was great, very pleasant check-in experience, the Adani lounge has a separate section for Vistara Frequent Fliers and Business Class which is quite nice.', 'The on-board experience is a bit so-so, the legroom in economy is fairly tight and feels less than Indigo.', 'They have cut-down on the quantity of food in meals visibly in economy class.', 'The IFE was good enough to keep oneself entertained and thankfully with the middle seat remaining empty, the flight was quite comfortable.', 'A late night flight (10 pm) delayed by almost 45 minutes is not the most pleasant beginning to the journey, especially given the horrible Encalm Lounge in Delhi (dirty, crowded, rubbish food).', 'However, the onboard experience was amazing, the A321 has lie-flat seats with large IFE screens (which is a treat, since I could sleep comfortably for over an hour in a less than 2 hour flight).', 'The cabin crew were prompt, helpful and very attentive.', 'Upto 4 food choices and a pretty good spread.', 'The IFE screens were great and the entertainment catalog is good enough for a short domestic flight but would be a bit boring for a 4-5 hour or above flight.', 'However, baggage claim experience was not the best, despite the baggage being priority tagged it arrived after 60-65 of the co-passengers in the flight had received their bags, and when you are running over an hour late, it was a bit frustrating.', 'I faced a helpless situation with Vistara.', 'No staff present, no proper guidance provided, and so much time wasted.', 'Even after trying to contact the staff, I had to wait for an unbearably long time, and they were not at all helpful.', 'If the management was better, I wouldnt have missed my flight even after reaching 50 minutes before.', 'I would strongly advise anyone to choose another airline where at least you receive proper guidance and dont have to wait for staff to show up.', 'Very disheartened by the airline this was a very, very bad experience.', 'Extremely disappointed with Vistara.', 'Boarding time at Delhi T3 was at 5:45 but boarding was complete by 6:15 and flight took off at 6:45 rather than 6:30.', 'The cabin crew onboard was attentive and caring, My seat was 5-A i was travelling with my family in premium economy .', 'The food was superb and the quantity was more then sufficient.', 'flight landed before time, the plane was in top-notch condition and inflight entertainment was working properly.', 'Overall, the experience was wonderful\\nThe flight from Bengaluru to Mumbai was on-time and pleasant.', 'The cabin crew were warm and efficient, the legroom was comfortable, one is truly going to miss Vistara once it merges with Air India.', 'If there are a couple of areas of concern, it would be the food, the quantity was generous but tasteless.', 'The other area would be that in seat selection, if they can point out the restricted recline seats during seat selection.', 'We were provided inflight meal they started from back of the plane and tray collection started from front of the plane i.e Row 7 where economy class starts.', 'One crew begin from business and first ended up with just serving those six rows and few passengers of seventh row of economy within 6-8 minutes of food being served tray collection begin and meanwhile i was eating which felt very dehumanising she just pulled off the tray while i was eating and there was stuff left in tray.', 'After my tray being taken away i had trash left and i pressed call button no-one came for 10 mins after that descent began and seatbelt signs were on and then lady arrives and askes me to close the tray.', 'I asked her what about trash, I was told to put in seat pocket in front of me.', 'I would prefer not being served anything rather than being treated like this.', 'On time performance was good but i prefer ordering speciality meal as it gets served earlier.', 'I am writing to express my utmost satisfaction with the service provided by Mr. Neeraj and Ms. Nikita.', 'Their dedication and excellent service have left a lasting impression on me and my family during our recent visit.', 'I was thoroughly impressed by the professionalism and attentiveness.', 'Probably one of the best for the route.', 'Ground handling both at departure and transit at Delhi was more than good.', 'Check in very quick.', 'Food I would rate the best offered on this route.', 'Crew members very hospitable.', 'Flight smooth and on time.', 'Ive been suffering from severe back pain and when I received a broken seat, and requested to be shifted to another seat, I was told that there are no other seats available.', 'Since I was genuinely uncomfortable I walked around the aircraft to check if any other seats available.', 'I saw multiple empty seats in the premium economy and requested to move there.', 'I was refused by cabin crew and then even after requesting the inflight supervisor my request was rejected.', 'This used to be my favourite airline but just so put off by this behaviour.', 'Gone are the days of actually caring to or just trying to make your customer comfortable and happy.', 'Its my first round trip on Vistara Airline ever.', 'I am happy to share the experience has been excellent all around.', 'I normally fly exclusively on Singapore Airline, but Vistara is an excellent choice now for my India route.']\n"
     ]
    }
   ],
   "source": [
    "sentences_data=\"\"\"\"In-flight meal was better than expected. Good job, Vistara!\n",
    "Not a pleasant experience. Food was cold and tasteless.\n",
    "Excellent check-in process. Will definitely fly again.\n",
    "Flight got delayed by 45 minutes, but staff handled the situation professionally.\n",
    "The flight was smooth and landed before time. Crew was polite.\n",
    "Clean aircraft and timely service. A good experience.\n",
    "Excellent check-in process. Will definitely fly again.\n",
    "Seats were cramped and entertainment options were limited.\n",
    "Quick boarding, clean seats and smooth takeoff. Five stars!\n",
    "Very poor customer service at the boarding gate.\n",
    "Vistara stands out as a premium full-service carrier, offering a superior travel experience that consistently impresses. From check-in to landing, the attention to detail and customer focus is evident, making it one of the best choices for both domestic and international travel in India. The cabin crew is exceptionally professional, courteous, and attentive, ensuring passengers feel comfortable throughout the journey. The seating arrangement, especially in Premium Economy and Business Class, provides ample legroom and ergonomic comfort, ideal for long flights. The inflight entertainment options are diverse, catering to various preferences, and the complimentary meals are thoughtfully curated, offering both quality and variety. Punctuality is another area where Vistara excels, with flights often departing and arriving on time. Additionally, the check-in process is seamless, and the airline staff are well-trained to handle queries efficiently. The partnership with Singapore Airlines also adds a layer of credibility and enhances the overall experience. That said, Vistaras ticket prices can be slightly higher than budget carriers, but the services provided justify the cost. For those who value comfort, reliability, and excellent service, Vistara is worth every penny. Its an airline that truly redefines air travel in India with its commitment to quality and customer satisfaction.\n",
    "I had a wonderful experience flying with Vistara Airlines recently, and I cant praise their staff enough, especially Ankush and Manisha. From the moment I arrived at the airport, they made the entire check-in process incredibly smooth and stress-free. Ankush was welcoming and guided me through each step with such professionalism, making sure I had all the information I needed. His calm and friendly demeanor made a normally hectic process feel easy and seamless. Manisha was equally attentive, helping me with my questions and ensuring I felt comfortable with every detail of my journey. Their teamwork and dedication truly reflect Vistaras commitment to exceptional service. Not only did they make the check-in experience smooth, but they also set a positive tone for the rest of my trip. The flight was equally enjoyable, with clean cabins, comfortable seating, and excellent in-flight service. Thank you, Vistara, and a special shoutout to Ankush and Manisha for going above and beyond to make my journey a pleasant one. I highly recommend Vistara Airlines for their superb staff and top-notch service It was very great flying in Vistara today, then any other Company I liked this because of several reasons like hospitality, Seat comfort, cabin staff service, food Etc. Keep it up.\n",
    "Im deeply disappointed with my recent experience with Vistara Airlines. My booking was unexpectedly canceled without my consent or any prior communication, allegedly due to a fraud alert from my bank. Despite my repeated requests for clarification and proof, Vistara has failed to provide a satisfactory explanation or address my concerns professionally. This lack of transparency and communication has caused significant inconvenience, both financially and in terms of time. A mere refund is not enough to compensate for the stress and trouble caused by this mishandling. I expect better from a reputed airline like Vistara, and I urge them to address such issues more responsibly in the future.\n",
    "Vistara is overall good .The seats were comfortable the food was kind of okayish, staff service on point, inflight entertainment was okay. This my first time flying with Vistara and i am sure that i will be flying again with this airline. The ground service could have been more better than this, the bus took a little bit of time.\n",
    "Extremely impolite and ill mannered cabin crew. Instead of giving a reply to a simple question, an arrogant crew member got into an argument in the most insulting tone. Even his colleagues were visibly disturbed by his behaviour. Some people lack basic etiquettes and cannot be trusted with hospitality spaces. But does the airline care Of course not.\n",
    "It was really nice experience, this was my first journey with Vistara. I am 6.2 feet height and still I was able to sit comfortably. They provided food also, after long time get food in Indian domestic flight was a good feel. Every days we used to get in jet and kingfisher airlines. It was a nice experience, now waiting for my connecting flight to Dubai.\n",
    "The on-ground experience was great, very pleasant check-in experience, the Adani lounge has a separate section for Vistara Frequent Fliers and Business Class which is quite nice. The on-board experience is a bit so-so, the legroom in economy is fairly tight and feels less than Indigo. They have cut-down on the quantity of food in meals visibly in economy class. The IFE was good enough to keep oneself entertained and thankfully with the middle seat remaining empty, the flight was quite comfortable.\n",
    "A late night flight (10 pm) delayed by almost 45 minutes is not the most pleasant beginning to the journey, especially given the horrible Encalm Lounge in Delhi (dirty, crowded, rubbish food). However, the onboard experience was amazing, the A321 has lie-flat seats with large IFE screens (which is a treat, since I could sleep comfortably for over an hour in a less than 2 hour flight). The cabin crew were prompt, helpful and very attentive. Upto 4 food choices and a pretty good spread. The IFE screens were great and the entertainment catalog is good enough for a short domestic flight but would be a bit boring for a 4-5 hour or above flight. However, baggage claim experience was not the best, despite the baggage being priority tagged it arrived after 60-65 of the co-passengers in the flight had received their bags, and when you are running over an hour late, it was a bit frustrating.\n",
    "I faced a helpless situation with Vistara. No staff present, no proper guidance provided, and so much time wasted. Even after trying to contact the staff, I had to wait for an unbearably long time, and they were not at all helpful. If the management was better, I wouldnt have missed my flight even after reaching 50 minutes before. I would strongly advise anyone to choose another airline where at least you receive proper guidance and dont have to wait for staff to show up. Very disheartened by the airline this was a very, very bad experience. Extremely disappointed with Vistara.\n",
    "Boarding time at Delhi T3 was at 5:45 but boarding was complete by 6:15 and flight took off at 6:45 rather than 6:30. The cabin crew onboard was attentive and caring, My seat was 5-A i was travelling with my family in premium economy . The food was superb and the quantity was more then sufficient. flight landed before time, the plane was in top-notch condition and inflight entertainment was working properly. Overall, the experience was wonderful\n",
    "The flight from Bengaluru to Mumbai was on-time and pleasant. The cabin crew were warm and efficient, the legroom was comfortable, one is truly going to miss Vistara once it merges with Air India. If there are a couple of areas of concern, it would be the food, the quantity was generous but tasteless. The other area would be that in seat selection, if they can point out the restricted recline seats during seat selection.\n",
    "We were provided inflight meal they started from back of the plane and tray collection started from front of the plane i.e Row 7 where economy class starts. One crew begin from business and first ended up with just serving those six rows and few passengers of seventh row of economy within 6-8 minutes of food being served tray collection begin and meanwhile i was eating which felt very dehumanising she just pulled off the tray while i was eating and there was stuff left in tray. After my tray being taken away i had trash left and i pressed call button no-one came for 10 mins after that descent began and seatbelt signs were on and then lady arrives and askes me to close the tray. I asked her what about trash, I was told to put in seat pocket in front of me. I would prefer not being served anything rather than being treated like this. On time performance was good but i prefer ordering speciality meal as it gets served earlier.\n",
    "I am writing to express my utmost satisfaction with the service provided by Mr. Neeraj and Ms. Nikita. Their dedication and excellent service have left a lasting impression on me and my family during our recent visit. I was thoroughly impressed by the professionalism and attentiveness.\n",
    "Probably one of the best for the route. Ground handling both at departure and transit at Delhi was more than good. Check in very quick. Food I would rate the best offered on this route. Crew members very hospitable. Flight smooth and on time.\n",
    "Ive been suffering from severe back pain and when I received a broken seat, and requested to be shifted to another seat, I was told that there are no other seats available. Since I was genuinely uncomfortable I walked around the aircraft to check if any other seats available. I saw multiple empty seats in the premium economy and requested to move there. I was refused by cabin crew and then even after requesting the inflight supervisor my request was rejected. This used to be my favourite airline but just so put off by this behaviour. Gone are the days of actually caring to or just trying to make your customer comfortable and happy.\n",
    "Its my first round trip on Vistara Airline ever. I am happy to share the experience has been excellent all around. I normally fly exclusively on Singapore Airline, but Vistara is an excellent choice now for my India route.\"\"\"\n",
    "nltk_tokens=nltk.sent_tokenize(sentences_data)\n",
    "def remove_punctuation(sentences_data):\n",
    "    translator = str.maketrans('', '', string.punctuation)\n",
    "    return text.translate(translator)\n",
    "print(nltk_tokens)"
   ]
  },
  {
   "cell_type": "code",
   "execution_count": 10,
   "id": "8b65d23d",
   "metadata": {},
   "outputs": [
    {
     "data": {
      "text/html": [
       "<div>\n",
       "<style scoped>\n",
       "    .dataframe tbody tr th:only-of-type {\n",
       "        vertical-align: middle;\n",
       "    }\n",
       "\n",
       "    .dataframe tbody tr th {\n",
       "        vertical-align: top;\n",
       "    }\n",
       "\n",
       "    .dataframe thead th {\n",
       "        text-align: right;\n",
       "    }\n",
       "</style>\n",
       "<table border=\"1\" class=\"dataframe\">\n",
       "  <thead>\n",
       "    <tr style=\"text-align: right;\">\n",
       "      <th></th>\n",
       "      <th>Reviews</th>\n",
       "      <th>Polarity</th>\n",
       "    </tr>\n",
       "  </thead>\n",
       "  <tbody>\n",
       "    <tr>\n",
       "      <th>0</th>\n",
       "      <td>\"In-flight meal was better than expected</td>\n",
       "      <td>Positive</td>\n",
       "    </tr>\n",
       "    <tr>\n",
       "      <th>1</th>\n",
       "      <td>'A good experience.'</td>\n",
       "      <td>Positive</td>\n",
       "    </tr>\n",
       "    <tr>\n",
       "      <th>2</th>\n",
       "      <td>'Clean aircraft and timely service.',</td>\n",
       "      <td>Positive</td>\n",
       "    </tr>\n",
       "    <tr>\n",
       "      <th>3</th>\n",
       "      <td>'Crew was polite.',</td>\n",
       "      <td>Positive</td>\n",
       "    </tr>\n",
       "    <tr>\n",
       "      <th>4</th>\n",
       "      <td>Not a pleasant experience.',</td>\n",
       "      <td>Negative</td>\n",
       "    </tr>\n",
       "    <tr>\n",
       "      <th>5</th>\n",
       "      <td>'Good job, Vistara!'</td>\n",
       "      <td>Positive</td>\n",
       "    </tr>\n",
       "    <tr>\n",
       "      <th>6</th>\n",
       "      <td>'Excellent check-in process.',</td>\n",
       "      <td>Positive</td>\n",
       "    </tr>\n",
       "    <tr>\n",
       "      <th>7</th>\n",
       "      <td>Will definitely fly again</td>\n",
       "      <td>Positive</td>\n",
       "    </tr>\n",
       "    <tr>\n",
       "      <th>8</th>\n",
       "      <td>'Food was cold and tasteless.'</td>\n",
       "      <td>Negative</td>\n",
       "    </tr>\n",
       "    <tr>\n",
       "      <th>9</th>\n",
       "      <td>'The flight was smooth and landed before time.',</td>\n",
       "      <td>Positive</td>\n",
       "    </tr>\n",
       "    <tr>\n",
       "      <th>10</th>\n",
       "      <td>'Flight got delayed by 45 minutes, but staff ...</td>\n",
       "      <td>Negative</td>\n",
       "    </tr>\n",
       "    <tr>\n",
       "      <th>11</th>\n",
       "      <td>Vistara stands out as a premium full-service c...</td>\n",
       "      <td>Positive</td>\n",
       "    </tr>\n",
       "    <tr>\n",
       "      <th>12</th>\n",
       "      <td>Excellent check-in process.',</td>\n",
       "      <td>Positive</td>\n",
       "    </tr>\n",
       "    <tr>\n",
       "      <th>13</th>\n",
       "      <td>'Will definitely fly again.',</td>\n",
       "      <td>Positive</td>\n",
       "    </tr>\n",
       "    <tr>\n",
       "      <th>14</th>\n",
       "      <td>'Seats were cramped and entertainment options...</td>\n",
       "      <td>Negative</td>\n",
       "    </tr>\n",
       "    <tr>\n",
       "      <th>15</th>\n",
       "      <td>'Very poor customer service at the boarding ga...</td>\n",
       "      <td>Negative</td>\n",
       "    </tr>\n",
       "    <tr>\n",
       "      <th>16</th>\n",
       "      <td>The cabin crew is exceptionally professional, ...</td>\n",
       "      <td>Positive</td>\n",
       "    </tr>\n",
       "    <tr>\n",
       "      <th>17</th>\n",
       "      <td>From check-in to landing, the attention to det...</td>\n",
       "      <td>Positive</td>\n",
       "    </tr>\n",
       "    <tr>\n",
       "      <th>18</th>\n",
       "      <td>'Five stars!',</td>\n",
       "      <td>Positive</td>\n",
       "    </tr>\n",
       "    <tr>\n",
       "      <th>19</th>\n",
       "      <td>Quick boarding, clean seats and smooth takeoff.'</td>\n",
       "      <td>Positive</td>\n",
       "    </tr>\n",
       "    <tr>\n",
       "      <th>20</th>\n",
       "      <td>'I had a wonderful experience flying with Vist...</td>\n",
       "      <td>Positive</td>\n",
       "    </tr>\n",
       "    <tr>\n",
       "      <th>21</th>\n",
       "      <td>'I expect better from a reputed airline like ...</td>\n",
       "      <td>Negative</td>\n",
       "    </tr>\n",
       "    <tr>\n",
       "      <th>22</th>\n",
       "      <td>This my first time flying with Vistara and i a...</td>\n",
       "      <td>Positive</td>\n",
       "    </tr>\n",
       "    <tr>\n",
       "      <th>23</th>\n",
       "      <td>'A mere refund is not enough to compensate for...</td>\n",
       "      <td>Negative</td>\n",
       "    </tr>\n",
       "    <tr>\n",
       "      <th>24</th>\n",
       "      <td>'Vistara is overall good</td>\n",
       "      <td>Positive</td>\n",
       "    </tr>\n",
       "    <tr>\n",
       "      <th>25</th>\n",
       "      <td>'The ground service could have been more bett...</td>\n",
       "      <td>Negative</td>\n",
       "    </tr>\n",
       "    <tr>\n",
       "      <th>26</th>\n",
       "      <td>.The seats were comfortable the food was kind ...</td>\n",
       "      <td>Positive</td>\n",
       "    </tr>\n",
       "    <tr>\n",
       "      <th>27</th>\n",
       "      <td>I am happy to share the experience has been ex...</td>\n",
       "      <td>Positive</td>\n",
       "    </tr>\n",
       "    <tr>\n",
       "      <th>28</th>\n",
       "      <td>Gone are the days of actually caring to or jus...</td>\n",
       "      <td>Positive</td>\n",
       "    </tr>\n",
       "    <tr>\n",
       "      <th>29</th>\n",
       "      <td>'Crew members very hospitable.</td>\n",
       "      <td>Negative</td>\n",
       "    </tr>\n",
       "    <tr>\n",
       "      <th>30</th>\n",
       "      <td>'Extremely impolite and ill mannered cabin crew.'</td>\n",
       "      <td>Positive</td>\n",
       "    </tr>\n",
       "  </tbody>\n",
       "</table>\n",
       "</div>"
      ],
      "text/plain": [
       "                                              Reviews  Polarity\n",
       "0            \"In-flight meal was better than expected  Positive\n",
       "1                                'A good experience.'  Positive\n",
       "2              'Clean aircraft and timely service.',   Positive\n",
       "3                                'Crew was polite.',   Positive\n",
       "4                        Not a pleasant experience.',  Negative\n",
       "5                                'Good job, Vistara!'  Positive\n",
       "6                      'Excellent check-in process.',  Positive\n",
       "7                           Will definitely fly again  Positive\n",
       "8                      'Food was cold and tasteless.'  Negative\n",
       "9   'The flight was smooth and landed before time.',   Positive\n",
       "10   'Flight got delayed by 45 minutes, but staff ...  Negative\n",
       "11  Vistara stands out as a premium full-service c...  Positive\n",
       "12                      Excellent check-in process.',  Positive\n",
       "13                      'Will definitely fly again.',  Positive\n",
       "14   'Seats were cramped and entertainment options...  Negative\n",
       "15  'Very poor customer service at the boarding ga...  Negative\n",
       "16  The cabin crew is exceptionally professional, ...  Positive\n",
       "17  From check-in to landing, the attention to det...  Positive\n",
       "18                                    'Five stars!',   Positive\n",
       "19   Quick boarding, clean seats and smooth takeoff.'  Positive\n",
       "20  'I had a wonderful experience flying with Vist...  Positive\n",
       "21   'I expect better from a reputed airline like ...  Negative\n",
       "22  This my first time flying with Vistara and i a...  Positive\n",
       "23  'A mere refund is not enough to compensate for...  Negative\n",
       "24                           'Vistara is overall good  Positive\n",
       "25   'The ground service could have been more bett...  Negative\n",
       "26  .The seats were comfortable the food was kind ...  Positive\n",
       "27  I am happy to share the experience has been ex...  Positive\n",
       "28  Gone are the days of actually caring to or jus...  Positive\n",
       "29                     'Crew members very hospitable.  Negative\n",
       "30  'Extremely impolite and ill mannered cabin crew.'  Positive"
      ]
     },
     "execution_count": 10,
     "metadata": {},
     "output_type": "execute_result"
    }
   ],
   "source": [
    "df=pd.read_csv(\"Activity 5 opinion mining.csv\")\n",
    "df"
   ]
  },
  {
   "cell_type": "markdown",
   "id": "f458a0fd",
   "metadata": {},
   "source": [
    "# #SET 1"
   ]
  },
  {
   "cell_type": "code",
   "execution_count": 7,
   "id": "e0db8a06",
   "metadata": {},
   "outputs": [
    {
     "name": "stdout",
     "output_type": "stream",
     "text": [
      "Predicted Sentiment: positive\n"
     ]
    }
   ],
   "source": [
    "# Import necessary libraries\n",
    "from sklearn.feature_extraction.text import CountVectorizer\n",
    "from sklearn.naive_bayes import MultinomialNB\n",
    "from sklearn.pipeline import make_pipeline\n",
    "\n",
    "# Sample data\n",
    "texts = [\n",
    "    \"In-flight meal was better than expected\",\n",
    "    \"A good experience.\",\n",
    "    \"Clean aircraft and timely service.\",\n",
    "    \"Crew was polite.\",\n",
    "    \"Not a pleasant experience.\",\n",
    "    \"Good job Vistara!\",\n",
    "    \"Excellent check-in process.\",\n",
    "    \"Will definitely fly again.\",\n",
    "    \"Food was cold and tasteless.\",\n",
    "    \"The flight was smooth and landed before time.\",\n",
    "    \"Flight got delayed by 45 minutes, but staff managed well.\"\n",
    "]\n",
    "\n",
    "labels = [\n",
    "    \"positive\", \"positive\", \"positive\", \"positive\", \n",
    "    \"negative\", \"positive\", \"positive\", \"positive\", \n",
    "    \"negative\", \"positive\", \"negative\"\n",
    "]\n",
    "\n",
    "# Create a pipeline with CountVectorizer and Multinomial Naive Bayes\n",
    "model = make_pipeline(CountVectorizer(), MultinomialNB())\n",
    "\n",
    "# Train the model\n",
    "model.fit(texts, labels)\n",
    "\n",
    "# Predict sentiment of a new review\n",
    "new_review = \"Their dedication and excellent service have left a lasting impression on me\"\n",
    "print(\"Predicted Sentiment:\", model.predict([new_review])[0])\n"
   ]
  },
  {
   "cell_type": "code",
   "execution_count": 8,
   "id": "61ff8154",
   "metadata": {},
   "outputs": [
    {
     "name": "stdout",
     "output_type": "stream",
     "text": [
      "['positive']\n"
     ]
    }
   ],
   "source": [
    "from sklearn.svm import LinearSVC\n",
    "from sklearn.feature_extraction.text import TfidfVectorizer\n",
    "from sklearn.pipeline import make_pipeline\n",
    "\n",
    "# Pipeline\n",
    "model = make_pipeline(TfidfVectorizer(), LinearSVC())\n",
    "model.fit(texts, labels)\n",
    "\n",
    "# Prediction\n",
    "print(model.predict([\"'Five stars!'\"]))"
   ]
  },
  {
   "cell_type": "code",
   "execution_count": 9,
   "id": "69d2e7fc",
   "metadata": {},
   "outputs": [
    {
     "name": "stdout",
     "output_type": "stream",
     "text": [
      "['negative']\n"
     ]
    }
   ],
   "source": [
    "from sklearn.ensemble import RandomForestClassifier\n",
    "from sklearn.feature_extraction.text import TfidfVectorizer\n",
    "from sklearn.pipeline import make_pipeline\n",
    "\n",
    "model = make_pipeline(TfidfVectorizer(), RandomForestClassifier(n_estimators=10))\n",
    "model.fit(texts, labels)\n",
    "\n",
    "print(model.predict([\"Food was cold and tasteless.\"]))"
   ]
  },
  {
   "cell_type": "markdown",
   "id": "2d704426",
   "metadata": {},
   "source": [
    "# Set 2\n"
   ]
  },
  {
   "cell_type": "code",
   "execution_count": 14,
   "id": "6b7e0321",
   "metadata": {},
   "outputs": [
    {
     "name": "stdout",
     "output_type": "stream",
     "text": [
      "Predicted Sentiment: positive\n"
     ]
    }
   ],
   "source": [
    "# Import necessary libraries\n",
    "from sklearn.feature_extraction.text import CountVectorizer\n",
    "from sklearn.naive_bayes import MultinomialNB\n",
    "from sklearn.pipeline import make_pipeline\n",
    "\n",
    "# Sample data: 29 sentences (including your added entries)\n",
    "texts = [\n",
    "    \"In-flight meal was better than expected\",\n",
    "    \"A good experience.\",\n",
    "    \"Clean aircraft and timely service.\",\n",
    "    \"Crew was polite.\",\n",
    "    \"Not a pleasant experience.\",\n",
    "    \"Good job Vistara!\",\n",
    "    \"Excellent check-in process.\",\n",
    "    \"Will definitely fly again.\",\n",
    "    \"Food was cold and tasteless.\",\n",
    "    \"The flight was smooth and landed before time.\",\n",
    "    \"Flight got delayed by 45 minutes, but staff managed well.\",\n",
    "    \"Their dedication and excellent service have left a lasting impression on me\",\n",
    "    \"Vistara stands out as a premium full-service airline with consistent quality.\",\n",
    "    \"Excellent check-in process.\",\n",
    "    \"Will definitely fly again.\",\n",
    "    \"Seats were cramped and entertainment options were lacking.\",\n",
    "    \"Very poor customer service at the boarding gate.\",\n",
    "    \"The cabin crew is exceptionally professional, courteous and attentive.\",\n",
    "    \"From check-in to landing, the attention to detail was evident.\",\n",
    "    \"Five stars!\",\n",
    "    \"Quick boarding, clean seats and smooth takeoff.\",\n",
    "    \"I had a wonderful experience flying with Vistara.\",\n",
    "    \"Rude ground staff ruined the whole experience.\",\n",
    "    \"Uncomfortable seating and very little legroom.\",\n",
    "    \"Crew didn’t respond to call buttons.\",\n",
    "    \"Flight landed before time and baggage arrived quickly.\",\n",
    "    \"Cabin was neat and smelled fresh.\",\n",
    "    \"Good vegetarian meal options.\",\n",
    "    \"Flight entertainment system didn’t work.\"\n",
    "]\n",
    "\n",
    "labels = [\n",
    "    \"positive\", \"positive\", \"positive\", \"positive\", \"negative\", \"positive\", \"positive\", \"positive\", \"negative\",\n",
    "    \"positive\", \"negative\", \"positive\", \"positive\", \"positive\", \"positive\", \"negative\", \"negative\", \"positive\",\n",
    "    \"positive\", \"positive\", \"positive\", \"positive\", \"negative\", \"negative\", \"negative\", \"positive\", \"positive\",\n",
    "    \"positive\", \"negative\"\n",
    "]\n",
    "\n",
    "# Create a pipeline with CountVectorizer and Multinomial Naive Bayes\n",
    "model = make_pipeline(CountVectorizer(), MultinomialNB())\n",
    "\n",
    "# Train the model\n",
    "model.fit(texts, labels)\n",
    "\n",
    "# Predict sentiment of a new review\n",
    "new_review = \"The experence was horrible \"\n",
    "print(\"Predicted Sentiment:\", model.predict([new_review])[0])\n"
   ]
  },
  {
   "cell_type": "code",
   "execution_count": 15,
   "id": "86fd93b2",
   "metadata": {},
   "outputs": [
    {
     "name": "stdout",
     "output_type": "stream",
     "text": [
      "['positive']\n"
     ]
    }
   ],
   "source": [
    "from sklearn.svm import LinearSVC\n",
    "from sklearn.feature_extraction.text import TfidfVectorizer\n",
    "from sklearn.pipeline import make_pipeline\n",
    "\n",
    "# Pipeline\n",
    "model = make_pipeline(TfidfVectorizer(), LinearSVC())\n",
    "model.fit(texts, labels)\n",
    "\n",
    "# Prediction\n",
    "print(model.predict([\"'Five stars!'\"]))"
   ]
  },
  {
   "cell_type": "code",
   "execution_count": 17,
   "id": "f2877d3a",
   "metadata": {},
   "outputs": [
    {
     "name": "stdout",
     "output_type": "stream",
     "text": [
      "['negative']\n"
     ]
    }
   ],
   "source": [
    "from sklearn.ensemble import RandomForestClassifier\n",
    "from sklearn.feature_extraction.text import TfidfVectorizer\n",
    "from sklearn.pipeline import make_pipeline\n",
    "\n",
    "model = make_pipeline(TfidfVectorizer(), RandomForestClassifier(n_estimators=10))\n",
    "model.fit(texts, labels)\n",
    "\n",
    "print(model.predict([\"Flight got delayed by 45 minutes, but staff managed well.\"]))"
   ]
  },
  {
   "cell_type": "markdown",
   "id": "48cb78f2",
   "metadata": {},
   "source": [
    "# #Set 3"
   ]
  },
  {
   "cell_type": "code",
   "execution_count": 22,
   "id": "5c21061c",
   "metadata": {},
   "outputs": [
    {
     "name": "stdout",
     "output_type": "stream",
     "text": [
      "Predicted Sentiment: positive\n"
     ]
    }
   ],
   "source": [
    "from sklearn.feature_extraction.text import CountVectorizer\n",
    "from sklearn.naive_bayes import MultinomialNB\n",
    "from sklearn.pipeline import make_pipeline\n",
    "\n",
    "texts = [\n",
    "    \"In-flight meal was better than expected\",\n",
    "    \"A good experience.\",\n",
    "    \"Clean aircraft and timely service.\",\n",
    "    \"Crew was polite.\",\n",
    "    \"Not a pleasant experience.\",\n",
    "    \"Good job Vistara!\",\n",
    "    \"Excellent check-in process.\",\n",
    "    \"Will definitely fly again.\",\n",
    "    \"Food was cold and tasteless.\",\n",
    "    \"The flight was smooth and landed before time.\",\n",
    "    \"Flight got delayed by 45 minutes, but staff managed well.\",\n",
    "    \"Their dedication and excellent service have left a lasting impression on me\",\n",
    "    \"Vistara stands out as a premium full-service airline with consistent quality.\",\n",
    "    \"Excellent check-in process.\",\n",
    "    \"Will definitely fly again.\",\n",
    "    \"Seats were cramped and entertainment options were lacking.\",\n",
    "    \"Very poor customer service at the boarding gate.\",\n",
    "    \"The cabin crew is exceptionally professional, courteous and attentive.\",\n",
    "    \"From check-in to landing, the attention to detail was evident.\",\n",
    "    \"Five stars!\",\n",
    "    \"Quick boarding, clean seats and smooth takeoff.\",\n",
    "    \"I had a wonderful experience flying with Vistara.\",\n",
    "    \"Rude ground staff ruined the whole experience.\",\n",
    "    \"Uncomfortable seating and very little legroom.\",\n",
    "    \"Crew didn’t respond to call buttons.\",\n",
    "    \"Flight landed before time and baggage arrived quickly.\",\n",
    "    \"Cabin was neat and smelled fresh.\",\n",
    "    \"Good vegetarian meal options.\",\n",
    "    \"Flight entertainment system didn’t work.\",\n",
    "    \"I expect better from a reputed airline like this.\",\n",
    "    \"This is my first time flying with Vistara and I am impressed.\",\n",
    "    \"A mere refund is not enough to compensate for the inconvenience.\",\n",
    "    \"Vistara is overall good.\",\n",
    "    \"The ground service could have been more better.\",\n",
    "    \"The seats were comfortable, the food was kind of okay.\",\n",
    "    \"I am happy to share the experience has been excellent.\",\n",
    "    \"Gone are the days of actually caring to or just flying. Vistara revived it.\",\n",
    "    \"Crew members very hospitable.\",\n",
    "    \"Extremely impolite and ill mannered cabin crew.\",\n",
    "    \"BAD EXPERIENCE IN CHECK IN\"\n",
    "]\n",
    "\n",
    "labels = [\n",
    "    \"positive\", \"positive\", \"positive\", \"positive\", \"negative\", \"positive\", \"positive\", \"positive\", \"negative\",\n",
    "    \"positive\", \"negative\", \"positive\", \"positive\", \"positive\", \"positive\", \"negative\", \"negative\", \"positive\",\n",
    "    \"positive\", \"positive\", \"positive\", \"positive\", \"negative\", \"negative\", \"negative\", \"positive\", \"positive\",\n",
    "    \"positive\", \"negative\", \"positive\", \"negative\", \"positive\", \"negative\", \"positive\", \"positive\", \"positive\",\n",
    "    \"positive\", \"negative\", \"negative\",\"negative\"\n",
    "]\n",
    "\n",
    "model = make_pipeline(CountVectorizer(), MultinomialNB())\n",
    "\n",
    "# Train the model\n",
    "model.fit(texts, labels)\n",
    "\n",
    "# Predict sentiment of a new review\n",
    "new_review = \"The experence was horrible \"\n",
    "print(\"Predicted Sentiment:\", model.predict([new_review])[0])\n",
    "\n"
   ]
  },
  {
   "cell_type": "code",
   "execution_count": 25,
   "id": "19730ef6",
   "metadata": {},
   "outputs": [
    {
     "name": "stdout",
     "output_type": "stream",
     "text": [
      "['positive']\n"
     ]
    }
   ],
   "source": [
    "from sklearn.svm import LinearSVC\n",
    "from sklearn.feature_extraction.text import TfidfVectorizer\n",
    "from sklearn.pipeline import make_pipeline\n",
    "\n",
    "# Pipeline\n",
    "model = make_pipeline(TfidfVectorizer(), LinearSVC())\n",
    "model.fit(texts, labels)\n",
    "\n",
    "# Prediction\n",
    "print(model.predict([\"aircraft wa snot clean at all \"]))"
   ]
  },
  {
   "cell_type": "code",
   "execution_count": 26,
   "id": "224f4148",
   "metadata": {},
   "outputs": [
    {
     "name": "stdout",
     "output_type": "stream",
     "text": [
      "['positive']\n"
     ]
    }
   ],
   "source": [
    "from sklearn.ensemble import RandomForestClassifier\n",
    "from sklearn.feature_extraction.text import TfidfVectorizer\n",
    "from sklearn.pipeline import make_pipeline\n",
    "\n",
    "model = make_pipeline(TfidfVectorizer(), RandomForestClassifier(n_estimators=10))\n",
    "model.fit(texts, labels)\n",
    "\n",
    "print(model.predict([\"inflight service was on the points\"]))"
   ]
  },
  {
   "cell_type": "code",
   "execution_count": null,
   "id": "bcfcbd1b",
   "metadata": {},
   "outputs": [],
   "source": []
  }
 ],
 "metadata": {
  "kernelspec": {
   "display_name": "Python 3 (ipykernel)",
   "language": "python",
   "name": "python3"
  },
  "language_info": {
   "codemirror_mode": {
    "name": "ipython",
    "version": 3
   },
   "file_extension": ".py",
   "mimetype": "text/x-python",
   "name": "python",
   "nbconvert_exporter": "python",
   "pygments_lexer": "ipython3",
   "version": "3.10.9"
  }
 },
 "nbformat": 4,
 "nbformat_minor": 5
}
